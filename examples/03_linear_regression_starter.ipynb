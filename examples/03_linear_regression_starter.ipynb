{
 "cells": [
  {
   "cell_type": "code",
   "execution_count": 5,
   "metadata": {
    "collapsed": false
   },
   "outputs": [],
   "source": [
    "import tensorflow as tf\n",
    "from xlrd import open_workbook\n",
    "import numpy as np\n",
    "import matplotlib.pyplot as plt\n",
    "import time\n",
    "%matplotlib inline\n"
   ]
  },
  {
   "cell_type": "code",
   "execution_count": 6,
   "metadata": {
    "collapsed": false
   },
   "outputs": [
    {
     "name": "stdout",
     "output_type": "stream",
     "text": [
      "*** No CODEPAGE record, no encoding_override: will use 'ascii'\n"
     ]
    }
   ],
   "source": [
    "book = open_workbook('../data/fire_theft.xls')\n",
    "sheet = book.sheet_by_index(0)"
   ]
  },
  {
   "cell_type": "code",
   "execution_count": 7,
   "metadata": {
    "collapsed": false
   },
   "outputs": [],
   "source": [
    "rows = sheet.nrows\n",
    "cols = sheet.ncols"
   ]
  },
  {
   "cell_type": "code",
   "execution_count": 8,
   "metadata": {
    "collapsed": false
   },
   "outputs": [
    {
     "name": "stdout",
     "output_type": "stream",
     "text": [
      "float64\n"
     ]
    }
   ],
   "source": [
    "data = np.asarray([sheet.row_values(i) for i in range(1,rows)])\n",
    "print data.dtype\n",
    "N = rows-1"
   ]
  },
  {
   "cell_type": "markdown",
   "metadata": {},
   "source": [
    "# Assemble the graph"
   ]
  },
  {
   "cell_type": "code",
   "execution_count": 13,
   "metadata": {
    "collapsed": false
   },
   "outputs": [],
   "source": [
    "X = tf.placeholder(tf.float32, name = \"X\")\n",
    "Y = tf.placeholder(tf.float32, name = \"Y\")\n",
    "w = tf.Variable(0.0, name = \"w\")\n",
    "b = tf.Variable(0.0, name = \"b\")\n",
    "\n",
    "Y_predicted = X*w + b\n",
    "loss = tf.square(Y - Y_predicted, name = \"loss\")\n",
    "optimizer = tf.train.GradientDescentOptimizer(learning_rate = 0.001).minimize(loss)"
   ]
  },
  {
   "cell_type": "code",
   "execution_count": 14,
   "metadata": {
    "collapsed": false
   },
   "outputs": [
    {
     "name": "stdout",
     "output_type": "stream",
     "text": [
      "Loss in Epoch 0 : 2069.6319334\n",
      "Loss in Epoch 10 : 1924.59308236\n",
      "Loss in Epoch 20 : 1773.10248531\n",
      "Loss in Epoch 30 : 1666.19353858\n",
      "Loss in Epoch 40 : 1589.66805633\n",
      "Loss in Epoch 50 : 1534.2117978\n",
      "Loss in Epoch 60 : 1493.60021089\n",
      "Loss in Epoch 70 : 1463.59965632\n",
      "Loss in Epoch 80 : 1441.27821302\n",
      "Loss in Epoch 90 : 1424.57482108\n",
      "Loss in Epoch 100 : 1412.01807167\n",
      "Loss in Epoch 110 : 1402.54462933\n",
      "Loss in Epoch 120 : 1395.37728963\n",
      "Loss in Epoch 130 : 1389.94267754\n",
      "Loss in Epoch 140 : 1385.81505481\n",
      "Loss in Epoch 150 : 1382.67520862\n",
      "Loss in Epoch 160 : 1380.28415905\n",
      "Loss in Epoch 170 : 1378.46195164\n",
      "Loss in Epoch 180 : 1377.07407952\n",
      "Loss in Epoch 190 : 1376.01427897\n"
     ]
    }
   ],
   "source": [
    "with tf.Session() as sess:\n",
    "    sess.run(tf.global_variables_initializer())\n",
    "    writer = tf.summary.FileWriter(\"./graphs/\",sess.graph)\n",
    "    \n",
    "    X_data, Y_data = data.T[0], data.T[1]\n",
    "\n",
    "\n",
    "    for iteration in xrange(200):\n",
    "        total_loss = 0\n",
    "        for x,y in data:\n",
    "            _, l = sess.run([optimizer,loss], feed_dict = {X:x, Y:y})\n",
    "            total_loss += l\n",
    "        if iteration%10==0:\n",
    "            print 'Loss in Epoch', iteration,\":\",total_loss/(N*1.0)\n",
    "    \n",
    "    w_val, b_val = sess.run([w,b])\n",
    "    writer.close()\n",
    "    \n",
    "    \n",
    "            \n",
    "    "
   ]
  },
  {
   "cell_type": "code",
   "execution_count": 15,
   "metadata": {
    "collapsed": false
   },
   "outputs": [
    {
     "data": {
      "image/png": "[encoded data removed]",
      "text/plain": [
       "<matplotlib.figure.Figure at 0x1173e3dd0>"
      ]
     },
     "metadata": {},
     "output_type": "display_data"
    }
   ],
   "source": [
    "X, Y = data.T[0], data.T[1]\n",
    "plt.plot(X,Y,'bo', label = \"Original Data\")\n",
    "plt.plot(X, w_val*X+b_val, 'r', label = \"Predicted Data\")\n",
    "plt.legend()\n",
    "plt.show()"
   ]
  },
  {
   "cell_type": "code",
   "execution_count": null,
   "metadata": {
    "collapsed": true
   },
   "outputs": [],
   "source": []
  }
 ],
 "metadata": {
  "kernelspec": {
   "display_name": "Python 2",
   "language": "python",
   "name": "python2"
  },
  "language_info": {
   "codemirror_mode": {
    "name": "ipython",
    "version": 2
   },
   "file_extension": ".py",
   "mimetype": "text/x-python",
   "name": "python",
   "nbconvert_exporter": "python",
   "pygments_lexer": "ipython2",
   "version": "2.7.10"
  }
 },
 "nbformat": 4,
 "nbformat_minor": 0
}
